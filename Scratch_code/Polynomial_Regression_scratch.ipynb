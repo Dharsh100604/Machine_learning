{
  "nbformat": 4,
  "nbformat_minor": 0,
  "metadata": {
    "colab": {
      "provenance": [],
      "authorship_tag": "ABX9TyPkBTsCCLgJ+RCnON0pS0SV",
      "include_colab_link": true
    },
    "kernelspec": {
      "name": "python3",
      "display_name": "Python 3"
    },
    "language_info": {
      "name": "python"
    }
  },
  "cells": [
    {
      "cell_type": "markdown",
      "metadata": {
        "id": "view-in-github",
        "colab_type": "text"
      },
      "source": [
        "<a href=\"https://colab.research.google.com/github/Dharsh100604/Machine_learning/blob/main/Polynomial_Regression_scratch.ipynb\" target=\"_parent\"><img src=\"https://colab.research.google.com/assets/colab-badge.svg\" alt=\"Open In Colab\"/></a>"
      ]
    },
    {
      "cell_type": "markdown",
      "source": [
        "* linear regression works on linear data\n",
        "* polynominal reg ->non-linear relationship b/w dependent and independent variable\n"
      ],
      "metadata": {
        "id": "fmtZHjQm3VTp"
      }
    },
    {
      "cell_type": "code",
      "execution_count": null,
      "metadata": {
        "id": "kJ417tXb2vDW"
      },
      "outputs": [],
      "source": [
        "import numpy as np\n",
        "import matplotlib.pyplot as plt"
      ]
    },
    {
      "cell_type": "code",
      "source": [
        "x=np.array([1,2,3,4,5])\n",
        "y=np.array([2.1,3.8,6.5,9.2,11.3])"
      ],
      "metadata": {
        "id": "L9B6Ds2rAFK2"
      },
      "execution_count": null,
      "outputs": []
    },
    {
      "cell_type": "code",
      "source": [
        "degree=2"
      ],
      "metadata": {
        "id": "7QoSLmLBAgLc"
      },
      "execution_count": null,
      "outputs": []
    },
    {
      "cell_type": "code",
      "source": [
        "x_poly = np.column_stack([x**i for i in range(degree+1)])\n",
        "x_poly"
      ],
      "metadata": {
        "colab": {
          "base_uri": "https://localhost:8080/"
        },
        "id": "ttrVmA-HAniX",
        "outputId": "9d16811f-166d-41bf-b2da-a812a0400ca1"
      },
      "execution_count": null,
      "outputs": [
        {
          "output_type": "execute_result",
          "data": {
            "text/plain": [
              "array([[ 1,  1,  1],\n",
              "       [ 1,  2,  4],\n",
              "       [ 1,  3,  9],\n",
              "       [ 1,  4, 16],\n",
              "       [ 1,  5, 25]])"
            ]
          },
          "metadata": {},
          "execution_count": 18
        }
      ]
    },
    {
      "cell_type": "code",
      "source": [
        "weights =np.zeros(degree+1)\n",
        "weights"
      ],
      "metadata": {
        "colab": {
          "base_uri": "https://localhost:8080/"
        },
        "id": "RLo266KHBiX7",
        "outputId": "c3893f04-d4e7-47ed-8078-4a6f8d8054a6"
      },
      "execution_count": null,
      "outputs": [
        {
          "output_type": "execute_result",
          "data": {
            "text/plain": [
              "array([0., 0., 0.])"
            ]
          },
          "metadata": {},
          "execution_count": 19
        }
      ]
    },
    {
      "cell_type": "code",
      "source": [
        "learning_rate=0.001\n",
        "num_iterations=10000"
      ],
      "metadata": {
        "id": "3PfNJ73ICCgu"
      },
      "execution_count": null,
      "outputs": []
    },
    {
      "cell_type": "code",
      "source": [
        "for _ in range(num_iterations):\n",
        "  predictions=np.dot(x_poly,weights)\n",
        "  error=predictions-y #cal error\n",
        "  #update weights using gradient descent\n",
        "  gradient =np.dot(x_poly.T,error)/len(x)\n",
        "  weights-=learning_rate*gradient\n",
        "  #print(f\"weights for iteration {_}:{weights}\")"
      ],
      "metadata": {
        "id": "vatJ7vrtCQSF"
      },
      "execution_count": null,
      "outputs": []
    },
    {
      "cell_type": "code",
      "source": [
        "def predict(x,weights):\n",
        "  x_poly=np.array([x**i for i in range(degree+1)])\n",
        "  return np.dot(x_poly,weights)"
      ],
      "metadata": {
        "id": "AzBKtiFjDybs"
      },
      "execution_count": null,
      "outputs": []
    },
    {
      "cell_type": "code",
      "source": [
        "plt.scatter(x,y,label=\"Data points\")\n",
        "x_range= np.linspace(min(x),max(x),100)\n",
        "y_pred=[predict(x,weights) for x in x_range]\n",
        "plt.plot(x_range,y_pred,color=\"hotpink\",label=\"Polynomial Regression\")\n",
        "plt.xlabel('x')\n",
        "plt.ylabel('y')\n",
        "plt.legend()\n",
        "plt.show()"
      ],
      "metadata": {
        "colab": {
          "base_uri": "https://localhost:8080/",
          "height": 453
        },
        "id": "Oph1bW0dHz4O",
        "outputId": "f65302b6-c6fd-4c26-dda3-44001527d75a"
      },
      "execution_count": null,
      "outputs": [
        {
          "output_type": "display_data",
          "data": {
            "text/plain": [
              "<Figure size 640x480 with 1 Axes>"
            ],
            "image/png": "[encoded data removed]"
          },
          "metadata": {}
        }
      ]
    }
  ]
}
